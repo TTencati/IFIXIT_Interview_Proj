{
 "cells": [
  {
   "cell_type": "code",
   "execution_count": 226,
   "source": [
    "#import libraries\r\n",
    "import numpy as np\r\n",
    "import pandas as pd\r\n",
    "import requests\r\n",
    "from bs4 import BeautifulSoup\r\n",
    "from selenium import webdriver\r\n",
    "\r\n",
    "from selenium.common.exceptions import NoSuchElementException\r\n",
    "from selenium.common.exceptions import StaleElementReferenceException\r\n",
    "from selenium.webdriver.common.by import By\r\n",
    "from selenium.webdriver.support.ui import WebDriverWait\r\n",
    "from selenium.webdriver.support import expected_conditions as EC\r\n",
    "\r\n",
    "import time\r\n",
    "\r\n",
    "print('Libraries Imported.')"
   ],
   "outputs": [
    {
     "output_type": "stream",
     "name": "stdout",
     "text": [
      "Libraries Imported.\n"
     ]
    }
   ],
   "metadata": {}
  },
  {
   "cell_type": "code",
   "execution_count": 227,
   "source": [
    "# retruns a new web driver object\r\n",
    "def createNewDriver():   \r\n",
    "\r\n",
    "    options = webdriver.ChromeOptions() \r\n",
    "    # options.add_argument('--headless') # run driver without browser\r\n",
    "    driver = webdriver.Chrome(executable_path='C:\\Program Files\\chromedriver\\chromedriver.exe', \r\n",
    "                                options=options)\r\n",
    "\r\n",
    "    return driver"
   ],
   "outputs": [],
   "metadata": {}
  },
  {
   "cell_type": "code",
   "execution_count": 228,
   "source": [
    "# navigate driver to proper frame within Product Line tab\r\n",
    "def navigateToProductList(driver):\r\n",
    "    url = 'https://www.echo-usa.com/Support-Help/Parts-Lookup'\r\n",
    "\r\n",
    "    driver.get(url)\r\n",
    "    # navigate to product line tab\r\n",
    "    frameset = driver.find_element_by_tag_name('frameset')\r\n",
    "\r\n",
    "    frame = frameset.find_element_by_tag_name('frame')\r\n",
    "    frame_name = frame.get_attribute('name')\r\n",
    "\r\n",
    "    # grab last 6 chars of frame name since it changes everytime page is loaded\r\n",
    "    frame_suffix = frame_name[11:17]\r\n",
    "    # print(frame_suffix)\r\n",
    "\r\n",
    "    # set driver in frame that contains necessary info\r\n",
    "    driver.switch_to.frame(frame)\r\n",
    "\r\n",
    "    # find product line tab\r\n",
    "    product_line = driver.find_element_by_id(\"Tab2\")\r\n",
    "\r\n",
    "    # select product line tab\r\n",
    "    product_line.click()\r\n",
    "    # print(browser.page_source)\r\n",
    "\r\n",
    "    # set names/IDs of frames based on 6 chars that were previously saved\r\n",
    "    prodLineFrameID = 'iframeSearchProdLine_' + frame_suffix\r\n",
    "    detailFrameID = 'plDetailFrame'\r\n",
    "    dataFrameName = 'ARICAT6TREE_' + frame_suffix\r\n",
    "\r\n",
    "    # navigate into frame that contains jstree of all products/parts\r\n",
    "    frame = driver.find_element_by_id(prodLineFrameID)\r\n",
    "    driver.switch_to.frame(frame)\r\n",
    "\r\n",
    "    frame = driver.find_element_by_id(detailFrameID)\r\n",
    "    driver.switch_to.frame(frame)\r\n",
    "\r\n",
    "    frame = driver.find_element_by_name(dataFrameName)\r\n",
    "    driver.switch_to.frame(frame)\r\n",
    "\r\n",
    "    # click into ECHO jstree\r\n",
    "    cur_node = driver.find_element_by_id('pn18')\r\n",
    "    cur_node.click()"
   ],
   "outputs": [],
   "metadata": {}
  },
  {
   "cell_type": "code",
   "execution_count": 229,
   "source": [
    "def getNodes(unorderedList):\r\n",
    "    # get all list items from unordered list param\r\n",
    "    nodes = unorderedList.find_elements_by_tag_name(\"li\")\r\n",
    "\r\n",
    "    # iterate through all list items in current unordered list\r\n",
    "    for node in nodes:\r\n",
    "        # grab and store node ID\r\n",
    "        node_id = node.get_attribute('id')\r\n",
    "        # grab and store ID of corresponding anchor\r\n",
    "        anchor_id = node_id + '_anchor'\r\n",
    "\r\n",
    "        # make driver wait for node to be clickable before clicking\r\n",
    "        wait = WebDriverWait(driver, 10)\r\n",
    "        anchor = wait.until(EC.element_to_be_clickable((By.ID, anchor_id))).click()\r\n",
    "       \r\n",
    "        # (base case) check if node is a parent, if false gather info from leaf node\r\n",
    "        if node.get_attribute('data-assembly-is-parent') == \"false\":\r\n",
    "            # TO DO: gather data from part and pull to dataframe?\r\n",
    "            print(' Reached leaf node.')\r\n",
    "        # else, click the element to expand child list\r\n",
    "        else:\r\n",
    "            # get xpath of current node\r\n",
    "            xpath = '//li[@id = \\'' + node_id + '\\' and @aria-expanded = \\'true\\' and @aria-busy = \\'false\\']'\r\n",
    "\r\n",
    "            # wait for list item to be visible\r\n",
    "            wait = WebDriverWait(driver, 10)\r\n",
    "            wait.until(EC.visibility_of_element_located((By.XPATH, xpath)))\r\n",
    "\r\n",
    "            # once visible get a new reference to it, as the old reference is most likely stale\r\n",
    "            node = driver.find_element_by_xpath(xpath) \r\n",
    "\r\n",
    "            # find next unordered list element and call getParts recursively to iterate through next level\r\n",
    "            getNodes(node.find_element_by_tag_name(\"ul\"))"
   ],
   "outputs": [],
   "metadata": {}
  },
  {
   "cell_type": "code",
   "execution_count": null,
   "source": [
    "def getData(driver):\r\n",
    "    frame = driver.find_element_by_name('plDetail')\r\n",
    "    driver.switch_to_frame(frame)\r\n",
    "\r\n",
    "    frameset = driver.find_element_by_xpath('frameset')\r\n",
    "    driver.switch_to_frame(frameset)\r\n",
    "    \r\n",
    "    frame = driver.find_element_by_name('IPL694611DATA_GNRVYx')\r\n",
    "    driver.switch_to_frame(frame)\r\n",
    "\r\n",
    "    table = driver.find_element_by_class_id('tblIPLMain')\r\n",
    "\r\n",
    "    "
   ],
   "outputs": [],
   "metadata": {}
  },
  {
   "cell_type": "code",
   "execution_count": null,
   "source": [
    "# driver.execute_script(\"return $('.jstree-open').jstree('open_all');\")\r\n",
    "# create new webdriver to begin exploring target data\r\n",
    "driver = createNewDriver()\r\n",
    "navigateToProductList(driver)\r\n",
    "\r\n",
    "# select first ul that contains all subdirectories\r\n",
    "productList = WebDriverWait(driver, 10).until(EC.visibility_of_element_located((By.XPATH, '//ul[contains(@class, \\'jstree-container-ul\\')][li[@aria-level = \\'1\\']]')))\r\n",
    "# pass list of products into getNodes(), a recursive func\r\n",
    "getNodes(productList)"
   ],
   "outputs": [],
   "metadata": {}
  }
 ],
 "metadata": {
  "orig_nbformat": 4,
  "language_info": {
   "name": "python",
   "version": "3.7.2",
   "mimetype": "text/x-python",
   "codemirror_mode": {
    "name": "ipython",
    "version": 3
   },
   "pygments_lexer": "ipython3",
   "nbconvert_exporter": "python",
   "file_extension": ".py"
  },
  "kernelspec": {
   "name": "python3",
   "display_name": "Python 3.7.2 32-bit"
  },
  "interpreter": {
   "hash": "975eecf4c6eb24f7d6664b72662f54c0bfe2a6cf19e0fb94885a0234307c2761"
  }
 },
 "nbformat": 4,
 "nbformat_minor": 2
}
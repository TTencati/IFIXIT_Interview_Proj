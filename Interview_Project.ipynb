{
 "cells": [
  {
   "cell_type": "code",
   "execution_count": 176,
   "source": [
    "#import libraries\r\n",
    "import numpy as np\r\n",
    "import pandas as pd\r\n",
    "import requests\r\n",
    "from bs4 import BeautifulSoup\r\n",
    "from selenium import webdriver\r\n",
    "\r\n",
    "from selenium.common.exceptions import NoSuchElementException\r\n",
    "from selenium.common.exceptions import StaleElementReferenceException\r\n",
    "from selenium.webdriver.common.by import By\r\n",
    "from selenium.webdriver.support.ui import WebDriverWait\r\n",
    "from selenium.webdriver.support import expected_conditions as EC\r\n",
    "\r\n",
    "print('Libraries Imported.')"
   ],
   "outputs": [
    {
     "output_type": "stream",
     "name": "stdout",
     "text": [
      "Libraries Imported.\n"
     ]
    }
   ],
   "metadata": {}
  },
  {
   "cell_type": "code",
   "execution_count": 177,
   "source": [
    "# launch webdriver of target and gather html\r\n",
    "url = 'https://www.echo-usa.com/Support-Help/Parts-Lookup'\r\n",
    "\r\n",
    "options = webdriver.ChromeOptions() \r\n",
    "# options.add_argument('--headless') # run driver without browser\r\n",
    "driver = webdriver.Chrome(executable_path='C:\\Program Files\\chromedriver\\chromedriver.exe', \r\n",
    "                            options=options)\r\n",
    "driver.get(url)\r\n",
    "# driver.implicitly_wait(10)"
   ],
   "outputs": [],
   "metadata": {}
  },
  {
   "cell_type": "code",
   "execution_count": 178,
   "source": [
    "# navigate to product line tab\r\n",
    "frameset = driver.find_element_by_tag_name('frameset')\r\n",
    "print(\"Frameset: \", frameset)\r\n",
    "frame = frameset.find_element_by_tag_name('frame')\r\n",
    "frame_name = frame.get_attribute('name')\r\n",
    "print(frame_name)\r\n",
    "# grab last 6 chars of frame name since it changes everytime page is loaded\r\n",
    "frame_suffix = frame_name[11:17]\r\n",
    "print(frame_suffix)\r\n",
    "\r\n",
    "# set driver in frame that contains necessary info\r\n",
    "driver.switch_to.frame(frame)\r\n",
    "# find product line tab\r\n",
    "product_line = driver.find_element_by_id(\"Tab2\")\r\n",
    "\r\n",
    "# wait for product line tab to load before clicking\r\n",
    "# wait = WebDriverWait(browser, 10)\r\n",
    "# productList = wait.until(EC.presence_of_element_located((By.XPATH, '//html/body/table/tbody/tr[2]/td/div[2]/ul')))\r\n",
    "\r\n",
    "# select product line tab\r\n",
    "product_line.click()\r\n",
    "# print(browser.page_source)"
   ],
   "outputs": [
    {
     "output_type": "stream",
     "name": "stdout",
     "text": [
      "Frameset:  <selenium.webdriver.remote.webelement.WebElement (session=\"4defcdca717bb3c2c25f2fbbb9043fb6\", element=\"c766f17c-d851-4ea2-8fbe-b4804ea2f112\")>\n",
      "mainWindow_opKUaa\n",
      "opKUaa\n",
      "Frame:  https://echoinc.partsmartweb.com/scripts/EmpartISAPI.dll?MF&app=echo&session=8820e56e-40ad-4d21-8629-28904e2bb4f7&mode=12&TF=ewMain\n"
     ]
    }
   ],
   "metadata": {}
  },
  {
   "cell_type": "code",
   "execution_count": 179,
   "source": [
    "# set names/IDs of frames based on 6 chars that were previously saved\r\n",
    "prodLineFrameID = 'iframeSearchProdLine_' + frame_suffix\r\n",
    "detailFrameID = 'plDetailFrame'\r\n",
    "dataFrameName = 'ARICAT6TREE_' + frame_suffix\r\n",
    "\r\n",
    "# navigate into frame that contains jstree of all products/parts\r\n",
    "frame = driver.find_element_by_id(prodLineFrameID)\r\n",
    "driver.switch_to.frame(frame)\r\n",
    "\r\n",
    "frame = driver.find_element_by_id(detailFrameID)\r\n",
    "driver.switch_to.frame(frame)\r\n",
    "\r\n",
    "frame = driver.find_element_by_name(dataFrameName)\r\n",
    "driver.switch_to.frame(frame)\r\n",
    "\r\n",
    "# click into ECHO jstree\r\n",
    "cur_node = driver.find_element_by_id('pn18')\r\n",
    "cur_node.click()"
   ],
   "outputs": [],
   "metadata": {}
  },
  {
   "cell_type": "code",
   "execution_count": 180,
   "source": [
    "def getNodes(nodeList):\r\n",
    "    # get all list items from unordered list param\r\n",
    "    nodes = nodeList.find_elements_by_tag_name(\"li\")\r\n",
    "\r\n",
    "    # **on first run getParts is correctly gathering all li of first ul**\r\n",
    "    # for node in nodes:\r\n",
    "    #     print(node.get_attribute('id'))\r\n",
    "\r\n",
    "    # iterate through all list items in current unordered list\r\n",
    "    for node in nodes:\r\n",
    "        # grab and store node ID\r\n",
    "        node_id = node.get_attribute('id')\r\n",
    "        # print ID of node\r\n",
    "        print(\"List item ID: \", node_id)\r\n",
    "        # grab and store ID of corresponding anchor\r\n",
    "        anchor_id = node_id + '_anchor'\r\n",
    "        # print anchor ID\r\n",
    "        print('Anchor ID: ', anchor_id)\r\n",
    "\r\n",
    "        # click the anchor\r\n",
    "        # driver.find_element_by_id(anchor_id).click()\r\n",
    "\r\n",
    "        # print(node.get_attribute('outerHTML'))\r\n",
    "\r\n",
    "        # make driver wait for node to be clickable before clicking\r\n",
    "        wait = WebDriverWait(driver, 10)\r\n",
    "        anchor = wait.until(EC.element_to_be_clickable((By.ID, anchor_id))).click()\r\n",
    "\r\n",
    "        # regather node web element now that reference node has been clicked (trying to avoid stale element exception)\r\n",
    "        node = driver.find_element_by_id(node_id)\r\n",
    "\r\n",
    "        # (base case) check if node is a parent, if false gather info from leaf node\r\n",
    "        if node.get_attribute('data-assembly-is-parent') == \"false\":\r\n",
    "            # TO DO: gather data from part and pull to dataframe?\r\n",
    "            print(' Reached leaf node.')\r\n",
    "        # else, click the element to expand child list\r\n",
    "        # else:          \r\n",
    "            # print(node.get_attribute('innerHTML'))\r\n",
    "           \r\n",
    "            # tried explicit waits to avoid stale element references and issues of driver clicking random nodes\r\n",
    "            # ignored_exceptions=(NoSuchElementException,StaleElementReferenceException)\r\n",
    "            # next_ul = WebDriverWait(driver, 30, ignored_exceptions=ignored_exceptions).until(expected_conditions.presence_of_element_located((By.TAG_NAME, 'ul')))\r\n",
    "            # getNodes(next_ul)\r\n",
    "            \r\n",
    "            # print(node.get_attribute('outerHTML'))\r\n",
    "            \r\n",
    "            # find next unordered list element and call getParts recursively to iterate through next level\r\n",
    "            # getNodes(node.find_element_by_tag_name(\"ul\"))"
   ],
   "outputs": [],
   "metadata": {}
  },
  {
   "cell_type": "code",
   "execution_count": 181,
   "source": [
    "# grab first unordered list in ECHO file\r\n",
    "# productList = driver.find_element_by_tag_name(\"ul\")\r\n",
    "\r\n",
    "wait = WebDriverWait(driver, 10)\r\n",
    "productList = wait.until(EC.element_to_be_clickable((By.TAG_NAME, 'ul')))\r\n",
    "\r\n",
    "# pass to getParts to recursively open all nodes\r\n",
    "getNodes(productList)"
   ],
   "outputs": [
    {
     "output_type": "stream",
     "name": "stdout",
     "text": [
      "List item ID:  j1_loading\n",
      "Anchor ID:  j1_loading_anchor\n"
     ]
    },
    {
     "output_type": "error",
     "ename": "TimeoutException",
     "evalue": "Message: \n",
     "traceback": [
      "\u001b[1;31m---------------------------------------------------------------------------\u001b[0m",
      "\u001b[1;31mTimeoutException\u001b[0m                          Traceback (most recent call last)",
      "\u001b[1;32m<ipython-input-181-fc658918c722>\u001b[0m in \u001b[0;36m<module>\u001b[1;34m\u001b[0m\n\u001b[0;32m      5\u001b[0m \u001b[0mproductList\u001b[0m \u001b[1;33m=\u001b[0m \u001b[0mwait\u001b[0m\u001b[1;33m.\u001b[0m\u001b[0muntil\u001b[0m\u001b[1;33m(\u001b[0m\u001b[0mEC\u001b[0m\u001b[1;33m.\u001b[0m\u001b[0melement_to_be_clickable\u001b[0m\u001b[1;33m(\u001b[0m\u001b[1;33m(\u001b[0m\u001b[0mBy\u001b[0m\u001b[1;33m.\u001b[0m\u001b[0mTAG_NAME\u001b[0m\u001b[1;33m,\u001b[0m \u001b[1;34m'ul'\u001b[0m\u001b[1;33m)\u001b[0m\u001b[1;33m)\u001b[0m\u001b[1;33m)\u001b[0m\u001b[1;33m\u001b[0m\u001b[1;33m\u001b[0m\u001b[0m\n\u001b[0;32m      6\u001b[0m \u001b[1;31m# pass to getParts to recursively open all nodes\u001b[0m\u001b[1;33m\u001b[0m\u001b[1;33m\u001b[0m\u001b[1;33m\u001b[0m\u001b[0m\n\u001b[1;32m----> 7\u001b[1;33m \u001b[0mgetParts\u001b[0m\u001b[1;33m(\u001b[0m\u001b[0mproductList\u001b[0m\u001b[1;33m)\u001b[0m\u001b[1;33m\u001b[0m\u001b[1;33m\u001b[0m\u001b[0m\n\u001b[0m",
      "\u001b[1;32m<ipython-input-180-5a61d56cd1f9>\u001b[0m in \u001b[0;36mgetParts\u001b[1;34m(nodeList)\u001b[0m\n\u001b[0;32m     25\u001b[0m         \u001b[1;31m# make driver wait for node to be clickable before clicking\u001b[0m\u001b[1;33m\u001b[0m\u001b[1;33m\u001b[0m\u001b[1;33m\u001b[0m\u001b[0m\n\u001b[0;32m     26\u001b[0m         \u001b[0mwait\u001b[0m \u001b[1;33m=\u001b[0m \u001b[0mWebDriverWait\u001b[0m\u001b[1;33m(\u001b[0m\u001b[0mdriver\u001b[0m\u001b[1;33m,\u001b[0m \u001b[1;36m10\u001b[0m\u001b[1;33m)\u001b[0m\u001b[1;33m\u001b[0m\u001b[1;33m\u001b[0m\u001b[0m\n\u001b[1;32m---> 27\u001b[1;33m         \u001b[0manchor\u001b[0m \u001b[1;33m=\u001b[0m \u001b[0mwait\u001b[0m\u001b[1;33m.\u001b[0m\u001b[0muntil\u001b[0m\u001b[1;33m(\u001b[0m\u001b[0mEC\u001b[0m\u001b[1;33m.\u001b[0m\u001b[0melement_to_be_clickable\u001b[0m\u001b[1;33m(\u001b[0m\u001b[1;33m(\u001b[0m\u001b[0mBy\u001b[0m\u001b[1;33m.\u001b[0m\u001b[0mID\u001b[0m\u001b[1;33m,\u001b[0m \u001b[0manchor_id\u001b[0m\u001b[1;33m)\u001b[0m\u001b[1;33m)\u001b[0m\u001b[1;33m)\u001b[0m\u001b[1;33m.\u001b[0m\u001b[0mclick\u001b[0m\u001b[1;33m(\u001b[0m\u001b[1;33m)\u001b[0m\u001b[1;33m\u001b[0m\u001b[1;33m\u001b[0m\u001b[0m\n\u001b[0m\u001b[0;32m     28\u001b[0m \u001b[1;33m\u001b[0m\u001b[0m\n\u001b[0;32m     29\u001b[0m         \u001b[1;31m# regather node web element now that reference node has been clicked (trying to avoid stale element exception)\u001b[0m\u001b[1;33m\u001b[0m\u001b[1;33m\u001b[0m\u001b[1;33m\u001b[0m\u001b[0m\n",
      "\u001b[1;32m~\\AppData\\Local\\Programs\\Python\\Python37-32\\lib\\site-packages\\selenium\\webdriver\\support\\wait.py\u001b[0m in \u001b[0;36muntil\u001b[1;34m(self, method, message)\u001b[0m\n\u001b[0;32m     78\u001b[0m             \u001b[1;32mif\u001b[0m \u001b[0mtime\u001b[0m\u001b[1;33m.\u001b[0m\u001b[0mtime\u001b[0m\u001b[1;33m(\u001b[0m\u001b[1;33m)\u001b[0m \u001b[1;33m>\u001b[0m \u001b[0mend_time\u001b[0m\u001b[1;33m:\u001b[0m\u001b[1;33m\u001b[0m\u001b[1;33m\u001b[0m\u001b[0m\n\u001b[0;32m     79\u001b[0m                 \u001b[1;32mbreak\u001b[0m\u001b[1;33m\u001b[0m\u001b[1;33m\u001b[0m\u001b[0m\n\u001b[1;32m---> 80\u001b[1;33m         \u001b[1;32mraise\u001b[0m \u001b[0mTimeoutException\u001b[0m\u001b[1;33m(\u001b[0m\u001b[0mmessage\u001b[0m\u001b[1;33m,\u001b[0m \u001b[0mscreen\u001b[0m\u001b[1;33m,\u001b[0m \u001b[0mstacktrace\u001b[0m\u001b[1;33m)\u001b[0m\u001b[1;33m\u001b[0m\u001b[1;33m\u001b[0m\u001b[0m\n\u001b[0m\u001b[0;32m     81\u001b[0m \u001b[1;33m\u001b[0m\u001b[0m\n\u001b[0;32m     82\u001b[0m     \u001b[1;32mdef\u001b[0m \u001b[0muntil_not\u001b[0m\u001b[1;33m(\u001b[0m\u001b[0mself\u001b[0m\u001b[1;33m,\u001b[0m \u001b[0mmethod\u001b[0m\u001b[1;33m,\u001b[0m \u001b[0mmessage\u001b[0m\u001b[1;33m=\u001b[0m\u001b[1;34m''\u001b[0m\u001b[1;33m)\u001b[0m\u001b[1;33m:\u001b[0m\u001b[1;33m\u001b[0m\u001b[1;33m\u001b[0m\u001b[0m\n",
      "\u001b[1;31mTimeoutException\u001b[0m: Message: \n"
     ]
    }
   ],
   "metadata": {}
  },
  {
   "cell_type": "code",
   "execution_count": null,
   "source": [
    "# opens all nodes of jstree, but it takes a very long time and not sure how to tell when it's done\r\n",
    "driver.execute_script(\"return $('.jstree').jstree('open_all');\")"
   ],
   "outputs": [],
   "metadata": {}
  },
  {
   "cell_type": "code",
   "execution_count": null,
   "source": [
    "# open a new webdriver for each product group under ECHO file to control run time and resources\r\n"
   ],
   "outputs": [],
   "metadata": {}
  }
 ],
 "metadata": {
  "orig_nbformat": 4,
  "language_info": {
   "name": "python",
   "version": "3.7.2",
   "mimetype": "text/x-python",
   "codemirror_mode": {
    "name": "ipython",
    "version": 3
   },
   "pygments_lexer": "ipython3",
   "nbconvert_exporter": "python",
   "file_extension": ".py"
  },
  "kernelspec": {
   "name": "python3",
   "display_name": "Python 3.7.2 32-bit"
  },
  "interpreter": {
   "hash": "975eecf4c6eb24f7d6664b72662f54c0bfe2a6cf19e0fb94885a0234307c2761"
  }
 },
 "nbformat": 4,
 "nbformat_minor": 2
}
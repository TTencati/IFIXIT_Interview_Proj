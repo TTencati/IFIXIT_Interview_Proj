{
 "cells": [
  {
   "cell_type": "code",
   "execution_count": 1,
   "source": [
    "#import libraries\r\n",
    "import numpy as np\r\n",
    "import pandas as pd\r\n",
    "import json\r\n",
    "import requests\r\n",
    "from bs4 import BeautifulSoup\r\n",
    "from selenium import webdriver\r\n",
    "\r\n",
    "print('Libraries Imported.')"
   ],
   "outputs": [
    {
     "output_type": "stream",
     "name": "stdout",
     "text": [
      "Libraries Imported.\n"
     ]
    }
   ],
   "metadata": {}
  },
  {
   "cell_type": "code",
   "execution_count": 2,
   "source": [
    "#retrieve html of target\r\n",
    "url = 'https://www.echo-usa.com/Support-Help/Parts-Lookup'\r\n",
    "\r\n",
    "# session = HTMLSession()\r\n",
    "# resp =  session.get(url)\r\n",
    "# print(resp.html.html)\r\n",
    "# # resp.html.render()\r\n",
    "\r\n",
    "options = webdriver.ChromeOptions() \r\n",
    "options.add_argument('--headless') \r\n",
    "browser = webdriver.Chrome(executable_path='C:\\Program Files\\chromedriver\\chromedriver.exe', \r\n",
    "                            options=options)\r\n",
    "browser.get(url)\r\n",
    "# cur_url =  browser.execute_script('return document.URL')\r\n",
    "# print(cur_url)\r\n",
    "# browser.get(cur_url)\r\n",
    "\r\n",
    "#product_line = browser.find_element_by_xpath('//*[@id=\"Tab2\"]').click()\r\n",
    "# product_line = browser.find_element_by_xpath('//*[@id=\"Tab2\"]')\r\n",
    "# browser.execute_script('https://echoinc.partsmartweb.com/scripts/EmpartISAPI.dll?MF')\r\n",
    "#product_line =  browser.find_element_by_id(\"Tab2\")\r\n",
    "\r\n",
    "\r\n",
    "#print(browser.page_source)\r\n",
    "frameset = browser.find_element_by_tag_name('frameset')\r\n",
    "print(frameset)\r\n",
    "frame = frameset.find_element_by_tag_name('frame')\r\n",
    "print(frame.get_attribute('src'))\r\n",
    "\r\n",
    "browser.switch_to.frame(frame)\r\n",
    "product_line =  browser.find_element_by_id(\"Tab2\")\r\n",
    "product_line.click()"
   ],
   "outputs": [
    {
     "output_type": "stream",
     "name": "stdout",
     "text": [
      "<selenium.webdriver.remote.webelement.WebElement (session=\"adc9a030fc1f33f479b47d5cb01fa246\", element=\"4bea40b4-bde4-43eb-bc13-114e9c80c934\")>\n",
      "https://echoinc.partsmartweb.com/scripts/EmpartISAPI.dll?MF&app=echo&session=904f512b-8b59-4288-b0ff-773cfdc20fc9&mode=12&TF=ewMain\n"
     ]
    }
   ],
   "metadata": {}
  },
  {
   "cell_type": "code",
   "execution_count": null,
   "source": [
    "soup = BeautifulSoup(browser.page_source, \"html.parser\")\r\n",
    "# soup = BeautifulSoup(resp.html.html, \"html.parser\")\r\n",
    "print(soup)"
   ],
   "outputs": [],
   "metadata": {}
  }
 ],
 "metadata": {
  "orig_nbformat": 4,
  "language_info": {
   "name": "python",
   "version": "3.7.2",
   "mimetype": "text/x-python",
   "codemirror_mode": {
    "name": "ipython",
    "version": 3
   },
   "pygments_lexer": "ipython3",
   "nbconvert_exporter": "python",
   "file_extension": ".py"
  },
  "kernelspec": {
   "name": "python3",
   "display_name": "Python 3.7.2 32-bit"
  },
  "interpreter": {
   "hash": "975eecf4c6eb24f7d6664b72662f54c0bfe2a6cf19e0fb94885a0234307c2761"
  }
 },
 "nbformat": 4,
 "nbformat_minor": 2
}
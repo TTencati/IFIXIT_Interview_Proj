{
 "cells": [
  {
   "cell_type": "code",
   "execution_count": 1,
   "source": [
    "#import libraries\r\n",
    "import numpy as np\r\n",
    "import pandas as pd\r\n",
    "import json\r\n",
    "import requests\r\n",
    "from bs4 import BeautifulSoup\r\n",
    "from selenium import webdriver\r\n",
    "\r\n",
    "print('Libraries Imported.')"
   ],
   "outputs": [
    {
     "output_type": "stream",
     "name": "stdout",
     "text": [
      "Libraries Imported.\n"
     ]
    }
   ],
   "metadata": {}
  },
  {
   "cell_type": "code",
   "execution_count": 81,
   "source": [
    "# launch webdriver of target and gather html\r\n",
    "url = 'https://www.echo-usa.com/Support-Help/Parts-Lookup'\r\n",
    "\r\n",
    "options = webdriver.ChromeOptions() \r\n",
    "# options.add_argument('--headless') \r\n",
    "browser = webdriver.Chrome(executable_path='C:\\Program Files\\chromedriver\\chromedriver.exe', \r\n",
    "                            options=options)\r\n",
    "browser.get(url)"
   ],
   "outputs": [],
   "metadata": {}
  },
  {
   "cell_type": "code",
   "execution_count": 82,
   "source": [
    "# navigate to product line tab\r\n",
    "frameset = browser.find_element_by_tag_name('frameset')\r\n",
    "print(\"Frameset: \", frameset)\r\n",
    "frame = frameset.find_element_by_tag_name('frame')\r\n",
    "frame_name = frame.get_attribute('name')\r\n",
    "print(frame_name)\r\n",
    "frame_suffix = frame_name[11:17]\r\n",
    "print(frame_suffix)\r\n",
    "print(\"Frame: \", frame.get_attribute('src'))\r\n",
    "\r\n",
    "browser.switch_to.frame(frame)\r\n",
    "product_line =  browser.find_element_by_id(\"Tab2\")\r\n",
    "# select product line tab\r\n",
    "product_line.click()\r\n",
    "# print(browser.page_source)"
   ],
   "outputs": [
    {
     "output_type": "stream",
     "name": "stdout",
     "text": [
      "Frameset:  <selenium.webdriver.remote.webelement.WebElement (session=\"a648f31953c5b2482b7ae7bf5755e15f\", element=\"7bfd67cd-90df-4ce8-b87f-e892955e8c44\")>\n",
      "mainWindow_zhkbkm\n",
      "zhkbkm\n",
      "Frame:  https://echoinc.partsmartweb.com/scripts/EmpartISAPI.dll?MF&app=echo&session=f8a6e80f-b76a-4585-bbd8-c6e4a78b9fae&mode=12&TF=ewMain\n"
     ]
    }
   ],
   "metadata": {}
  },
  {
   "cell_type": "code",
   "execution_count": 83,
   "source": [
    "prodLineFrameID = 'iframeSearchProdLine_' + frame_suffix\r\n",
    "detailFrameID = 'plDetailFrame'\r\n",
    "dataFrameName = 'ARICAT6TREE_' + frame_suffix\r\n",
    "\r\n",
    "# print(prodLineFrameID)\r\n",
    "\r\n",
    "frame = browser.find_element_by_id(prodLineFrameID)\r\n",
    "browser.switch_to.frame(frame)\r\n",
    "\r\n",
    "frame = browser.find_element_by_id(detailFrameID)\r\n",
    "browser.switch_to.frame(frame)\r\n",
    "\r\n",
    "frame = browser.find_element_by_name(dataFrameName)\r\n",
    "browser.switch_to.frame(frame)\r\n",
    "\r\n",
    "# click into ECHO assembly tree\r\n",
    "cur_node = browser.find_element_by_id('pn18')\r\n",
    "cur_node.click()"
   ],
   "outputs": [
    {
     "output_type": "stream",
     "name": "stdout",
     "text": [
      "iframeSearchProdLine_zhkbkm\n"
     ]
    }
   ],
   "metadata": {}
  },
  {
   "cell_type": "code",
   "execution_count": 102,
   "source": [
    "def getParts(cur_node):\r\n",
    "    productList = browser.find_element_by_tag_name(\"ul\")\r\n",
    "    products = productList.find_elements_by_tag_name(\"li\")\r\n",
    "    for product in products:\r\n",
    "        if product.get_attribute('data-assembly-is-parent') is False:\r\n",
    "            #gather data from part and pull to dataframe?\r\n",
    "            # print(product)\r\n",
    "            return\r\n",
    "        else:\r\n",
    "            anchor = product.find_element_by_tag_name(\"a\")\r\n",
    "            anchor.click()\r\n",
    "            # browser.implicitly_wait(3)\r\n",
    "            print(product.get_attribute('data-assembly-id'))\r\n",
    "            getParts(product.find_element_by_tag_id(\"ul\"))\r\n",
    "            return"
   ],
   "outputs": [],
   "metadata": {}
  },
  {
   "cell_type": "code",
   "execution_count": 103,
   "source": [
    "getParts(cur_node)"
   ],
   "outputs": [
    {
     "output_type": "stream",
     "name": "stdout",
     "text": [
      "19\n"
     ]
    },
    {
     "output_type": "error",
     "ename": "AttributeError",
     "evalue": "'WebElement' object has no attribute 'find_element_by_tag_id'",
     "traceback": [
      "\u001b[1;31m---------------------------------------------------------------------------\u001b[0m",
      "\u001b[1;31mAttributeError\u001b[0m                            Traceback (most recent call last)",
      "\u001b[1;32m<ipython-input-103-f809350b3b88>\u001b[0m in \u001b[0;36m<module>\u001b[1;34m\u001b[0m\n\u001b[0;32m      1\u001b[0m \u001b[0mproductList\u001b[0m \u001b[1;33m=\u001b[0m \u001b[0mbrowser\u001b[0m\u001b[1;33m.\u001b[0m\u001b[0mfind_element_by_tag_name\u001b[0m\u001b[1;33m(\u001b[0m\u001b[1;34m\"ul\"\u001b[0m\u001b[1;33m)\u001b[0m\u001b[1;33m\u001b[0m\u001b[1;33m\u001b[0m\u001b[0m\n\u001b[1;32m----> 2\u001b[1;33m \u001b[0mgetParts\u001b[0m\u001b[1;33m(\u001b[0m\u001b[0mproductList\u001b[0m\u001b[1;33m)\u001b[0m\u001b[1;33m\u001b[0m\u001b[1;33m\u001b[0m\u001b[0m\n\u001b[0m",
      "\u001b[1;32m<ipython-input-102-e2fcb202855b>\u001b[0m in \u001b[0;36mgetParts\u001b[1;34m(cur_node)\u001b[0m\n\u001b[0;32m     11\u001b[0m             \u001b[1;31m# browser.implicitly_wait(3)\u001b[0m\u001b[1;33m\u001b[0m\u001b[1;33m\u001b[0m\u001b[1;33m\u001b[0m\u001b[0m\n\u001b[0;32m     12\u001b[0m             \u001b[0mprint\u001b[0m\u001b[1;33m(\u001b[0m\u001b[0mproduct\u001b[0m\u001b[1;33m.\u001b[0m\u001b[0mget_attribute\u001b[0m\u001b[1;33m(\u001b[0m\u001b[1;34m'data-assembly-id'\u001b[0m\u001b[1;33m)\u001b[0m\u001b[1;33m)\u001b[0m\u001b[1;33m\u001b[0m\u001b[1;33m\u001b[0m\u001b[0m\n\u001b[1;32m---> 13\u001b[1;33m             \u001b[0mgetParts\u001b[0m\u001b[1;33m(\u001b[0m\u001b[0mproduct\u001b[0m\u001b[1;33m.\u001b[0m\u001b[0mfind_element_by_tag_id\u001b[0m\u001b[1;33m(\u001b[0m\u001b[1;34m\"ul\"\u001b[0m\u001b[1;33m)\u001b[0m\u001b[1;33m)\u001b[0m\u001b[1;33m\u001b[0m\u001b[1;33m\u001b[0m\u001b[0m\n\u001b[0m\u001b[0;32m     14\u001b[0m             \u001b[1;32mreturn\u001b[0m\u001b[1;33m\u001b[0m\u001b[1;33m\u001b[0m\u001b[0m\n",
      "\u001b[1;31mAttributeError\u001b[0m: 'WebElement' object has no attribute 'find_element_by_tag_id'"
     ]
    }
   ],
   "metadata": {}
  },
  {
   "cell_type": "code",
   "execution_count": null,
   "source": [],
   "outputs": [],
   "metadata": {}
  }
 ],
 "metadata": {
  "orig_nbformat": 4,
  "language_info": {
   "name": "python",
   "version": "3.7.2",
   "mimetype": "text/x-python",
   "codemirror_mode": {
    "name": "ipython",
    "version": 3
   },
   "pygments_lexer": "ipython3",
   "nbconvert_exporter": "python",
   "file_extension": ".py"
  },
  "kernelspec": {
   "name": "python3",
   "display_name": "Python 3.7.2 32-bit"
  },
  "interpreter": {
   "hash": "975eecf4c6eb24f7d6664b72662f54c0bfe2a6cf19e0fb94885a0234307c2761"
  }
 },
 "nbformat": 4,
 "nbformat_minor": 2
}